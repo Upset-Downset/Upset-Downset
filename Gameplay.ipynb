{
 "cells": [
  {
   "cell_type": "markdown",
   "id": "destroyed-religious",
   "metadata": {},
   "source": [
    "Play Against AlphaZero agent\n",
    "---"
   ]
  },
  {
   "cell_type": "code",
   "execution_count": 3,
   "id": "foster-feeling",
   "metadata": {},
   "outputs": [],
   "source": [
    "#Load the agent\n",
    "from upDown import UpDown\n",
    "from randomUpDown import RandomGame\n",
    "from agent import Agent\n",
    "\n",
    "alphaZero = Agent(path='./alpha_2.pt')"
   ]
  },
  {
   "cell_type": "code",
   "execution_count": 4,
   "id": "casual-czech",
   "metadata": {},
   "outputs": [
    {
     "data": {
      "image/png": "[encoded data removed]",
      "text/plain": [
       "<Figure size 432x288 with 1 Axes>"
      ]
     },
     "metadata": {
      "needs_background": "light"
     },
     "output_type": "display_data"
    },
    {
     "name": "stdout",
     "output_type": "stream",
     "text": [
      "\n",
      " Up wins!\n"
     ]
    }
   ],
   "source": [
    "#Change RGB=True if you want games in RGB\n",
    "H = RandomGame(10, RGB=False)\n",
    "#use agent1=alphaZero or agent2=alphaZero for the agent to go first or second, respectively\n",
    "H.play(agent1=alphaZero)"
   ]
  },
  {
   "cell_type": "code",
   "execution_count": null,
   "id": "blocked-oklahoma",
   "metadata": {},
   "outputs": [],
   "source": []
  }
 ],
 "metadata": {
  "kernelspec": {
   "display_name": "Python 3",
   "language": "python",
   "name": "python3"
  },
  "language_info": {
   "codemirror_mode": {
    "name": "ipython",
    "version": 3
   },
   "file_extension": ".py",
   "mimetype": "text/x-python",
   "name": "python",
   "nbconvert_exporter": "python",
   "pygments_lexer": "ipython3",
   "version": "3.8.1"
  }
 },
 "nbformat": 4,
 "nbformat_minor": 5
}
