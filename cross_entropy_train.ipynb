{
  "nbformat": 4,
  "nbformat_minor": 0,
  "metadata": {
    "colab": {
      "name": "cross_entropy_train.ipynb",
      "provenance": [],
      "collapsed_sections": [],
      "authorship_tag": "ABX9TyNXUG+CXU6yyoeXA8Y2tYFZ",
      "include_colab_link": true
    },
    "kernelspec": {
      "name": "python3",
      "display_name": "Python 3"
    }
  },
  "cells": [
    {
      "cell_type": "markdown",
      "metadata": {
        "id": "view-in-github",
        "colab_type": "text"
      },
      "source": [
        "<a href=\"https://colab.research.google.com/github/Upset-Downset/Upset-Downset/blob/master/cross_entropy_train.ipynb\" target=\"_parent\"><img src=\"https://colab.research.google.com/assets/colab-badge.svg\" alt=\"Open In Colab\"/></a>"
      ]
    },
    {
      "cell_type": "code",
      "metadata": {
        "colab": {
          "base_uri": "https://localhost:8080/"
        },
        "id": "WQBi9N9scxsA",
        "outputId": "07de70fe-d46f-4d43-e459-91dbecc54ea4"
      },
      "source": [
        "!git clone https://github.com/Upset-Downset/Upset-Downset.git"
      ],
      "execution_count": null,
      "outputs": [
        {
          "output_type": "stream",
          "text": [
            "Cloning into 'Upset-Downset'...\n",
            "remote: Enumerating objects: 32, done.\u001b[K\n",
            "remote: Counting objects: 100% (32/32), done.\u001b[K\n",
            "remote: Compressing objects: 100% (30/30), done.\u001b[K\n",
            "remote: Total 224 (delta 8), reused 13 (delta 0), pack-reused 192\u001b[K\n",
            "Receiving objects: 100% (224/224), 103.32 KiB | 351.00 KiB/s, done.\n",
            "Resolving deltas: 100% (105/105), done.\n"
          ],
          "name": "stdout"
        }
      ]
    },
    {
      "cell_type": "code",
      "metadata": {
        "id": "MUdmdnPNJDB3"
      },
      "source": [
        "%cd /content/Upset-Downset\n",
        "!git pull https://github.com/Upset-Downset/Upset-Downset.git"
      ],
      "execution_count": null,
      "outputs": []
    },
    {
      "cell_type": "code",
      "metadata": {
        "id": "TgE02v_w16zj",
        "colab": {
          "base_uri": "https://localhost:8080/"
        },
        "outputId": "55d02b16-6dc4-4441-a62e-5e73f61ebf5d"
      },
      "source": [
        "import randomUpDown as rud\n",
        "import agents.gameState as state\n",
        "import numpy as np\n",
        "from IPython.display import clear_output\n",
        "import matplotlib.pyplot as plt\n",
        "%matplotlib inline\n",
        "\n",
        "\n",
        "# Train on games of size n_actions or less (n_action starts at 10)\n",
        "n_actions = 10\n",
        "initial_game = rud.RandomGame(n_actions, colored=True)\n",
        "initial_state = state.game_state(initial_game, n=n_actions)\n",
        "initial_state_mat = initial_state.matrix\n",
        "initial_state_vec = initial_state_mat.reshape(n_actions * n_actions)\n",
        "initial_state_vec"
      ],
      "execution_count": 11,
      "outputs": [
        {
          "output_type": "execute_result",
          "data": {
            "text/plain": [
              "array([2., 0., 1., 0., 0., 0., 0., 0., 0., 0., 1., 1., 0., 0., 0., 0., 0.,\n",
              "       0., 0., 0., 0., 0., 2., 0., 0., 0., 0., 1., 0., 0., 0., 1., 0., 1.,\n",
              "       0., 0., 0., 0., 0., 1., 0., 0., 0., 0., 1., 0., 0., 0., 0., 0., 0.,\n",
              "       0., 0., 0., 0., 2., 0., 0., 1., 0., 0., 0., 0., 0., 0., 0., 2., 0.,\n",
              "       0., 1., 0., 0., 0., 0., 0., 1., 0., 1., 0., 0., 0., 0., 0., 0., 1.,\n",
              "       0., 0., 0., 3., 0., 0., 0., 1., 0., 0., 0., 0., 0., 0., 2.])"
            ]
          },
          "metadata": {
            "tags": []
          },
          "execution_count": 11
        }
      ]
    },
    {
      "cell_type": "code",
      "metadata": {
        "colab": {
          "base_uri": "https://localhost:8080/"
        },
        "id": "r3ZqTsHB1efX",
        "outputId": "199b6fc4-2fcf-4c35-ebee-6e4be0a3de2f"
      },
      "source": [
        "from sklearn.neural_network import MLPClassifier\n",
        "\n",
        "up_agent = MLPClassifier(\n",
        "    hidden_layer_sizes=(1000, 1000),\n",
        "    activation='tanh',\n",
        ")\n",
        "\n",
        "down_agent = MLPClassifier(\n",
        "    hidden_layer_sizes=(1000, 1000),\n",
        "    activation='tanh',\n",
        ")\n",
        "\n",
        "# Initialize agents to the dimension of state space and number of actions\n",
        "up_agent.partial_fit(X = [initial_state_vec] * n_actions, y = np.arange(n_actions), classes = np.arange(n_actions))\n",
        "down_agent.partial_fit(X = [initial_state_vec] * n_actions, y = np.arange(n_actions), classes = np.arange(n_actions))"
      ],
      "execution_count": 12,
      "outputs": [
        {
          "output_type": "execute_result",
          "data": {
            "text/plain": [
              "MLPClassifier(activation='tanh', alpha=0.0001, batch_size='auto', beta_1=0.9,\n",
              "              beta_2=0.999, early_stopping=False, epsilon=1e-08,\n",
              "              hidden_layer_sizes=(1000, 1000), learning_rate='constant',\n",
              "              learning_rate_init=0.001, max_fun=15000, max_iter=200,\n",
              "              momentum=0.9, n_iter_no_change=10, nesterovs_momentum=True,\n",
              "              power_t=0.5, random_state=None, shuffle=True, solver='adam',\n",
              "              tol=0.0001, validation_fraction=0.1, verbose=False,\n",
              "              warm_start=False)"
            ]
          },
          "metadata": {
            "tags": []
          },
          "execution_count": 12
        }
      ]
    },
    {
      "cell_type": "code",
      "metadata": {
        "id": "aY3YbtIs0um1"
      },
      "source": [
        "def generate_play(game, up_agent, down_agent, start = 'Up'):\n",
        "  '''\n",
        "  play a single game of upset-downset using the up_agent and down_agent. Returns \n",
        "  the states encountered, actions taken at each state and total reward for each\n",
        "  agent.\n",
        "  '''\n",
        "  #initializing trackers\n",
        "  up_states, up_actions = [], []\n",
        "  down_states, down_actions = [], []\n",
        "  up_reward, down_reward = 0, 0\n",
        "\n",
        "  #initial state\n",
        "  cur_state = state.game_state(game, n=n_actions)\n",
        "  state_mat = cur_state.matrix\n",
        "  state_vec = state_mat.reshape(n_actions * n_actions)\n",
        "  \n",
        "  #the diagonal tracks if the game is finished\n",
        "  diag = np.diag(state_mat)\n",
        "  \n",
        "  #initialize the turn token\n",
        "  turn = start\n",
        "\n",
        "  while sum(diag) != 0:\n",
        "    \n",
        "    #check to see if the game is over by color options\n",
        "    if set(diag) == {0,1}:\n",
        "      #set the token to the loser and break out of the game\n",
        "      turn = 'Up'\n",
        "      break\n",
        "    if set(diag) == {0,3}:\n",
        "      #set the token to the loser and break out of the game\n",
        "      turn = 'Down'\n",
        "      break\n",
        "    \n",
        "    if turn == 'Up':\n",
        "      #get policy\n",
        "      up_probs = up_agent.predict_proba([state_vec]*n_actions)\n",
        "      \n",
        "      #make choice\n",
        "      node = np.random.choice(range(n_actions), p = up_probs[0])\n",
        "      while diag[node] in [0,1/3]:\n",
        "        up_reward -= 10\n",
        "        node = np.random.choice(range(n_actions), p = up_probs[0])\n",
        "      removal_set = game.upset(node)\n",
        "\n",
        "      #update whose turn it is\n",
        "      turn = 'Down'\n",
        "\n",
        "    else:\n",
        "      #get policy\n",
        "      down_probs = down_agent.predict_proba([state_vec]*n_actions)\n",
        "      \n",
        "      #make choice\n",
        "      node = np.random.choice(range(n_actions), p = down_probs[0])\n",
        "      while diag[node] in [0,1]:\n",
        "        down_reward -= 10\n",
        "        node = np.random.choice(range(n_actions), p = down_probs[0])\n",
        "      removal_set = game.downset(node)\n",
        "\n",
        "      #update whose turn it is\n",
        "      turn = 'Up'\n",
        "\n",
        "    #store state and action\n",
        "    if turn == 'Down':\n",
        "      up_states.append(np.copy(state_vec))\n",
        "      up_actions.append(node)\n",
        "    else:\n",
        "      down_states.append(np.copy(state_vec))\n",
        "      down_actions.append(node)\n",
        "\n",
        "    #get current state\n",
        "    cur_state.update_state(removal_set)\n",
        "\n",
        "  #play is over. Assign final rewards    \n",
        "  if turn == 'Up':\n",
        "    up_reward -= 10\n",
        "    down_reward += 10\n",
        "    winner = 'Down'\n",
        "  else:\n",
        "    up_reward += 10\n",
        "    down_reward -= 10\n",
        "    winner = 'Up'\n",
        "\n",
        "  return up_states, down_states, up_actions, down_actions, up_reward, down_reward, winner"
      ],
      "execution_count": 13,
      "outputs": []
    },
    {
      "cell_type": "code",
      "metadata": {
        "colab": {
          "base_uri": "https://localhost:8080/",
          "height": 248
        },
        "id": "aKDMm1ctHnSS",
        "outputId": "1ccb6f99-391f-40f7-fc36-3ba3a8e4ee5e"
      },
      "source": [
        "#new game\n",
        "game = rud.RandomGame(10, colored=True)\n",
        "game.gameboard()"
      ],
      "execution_count": 14,
      "outputs": [
        {
          "output_type": "display_data",
          "data": {
            "image/png": "[encoded data removed]",
            "text/plain": [
              "<Figure size 432x288 with 1 Axes>"
            ]
          },
          "metadata": {
            "tags": [],
            "needs_background": "light"
          }
        }
      ]
    },
    {
      "cell_type": "code",
      "metadata": {
        "id": "PQ0Z6l6c1NRS"
      },
      "source": [
        "def gameplay_session(num_plays):\n",
        "  '''\n",
        "  play a sequence of 'num_plays' number of games with up_agent/down_agent starting \n",
        "  first uniformly randomly. Returns the states encountered (list of 1-D arrays), \n",
        "  actions taken (lists of lists) and total reward (list of ints) for each agent \n",
        "  in the order they were encountered.\n",
        "  '''\n",
        "  up_states, up_actions = [], []\n",
        "  down_states, down_actions = [], []\n",
        "  up_rewards, down_rewards = [], []\n",
        "  up_wins, down_wins = 0, 0\n",
        "  while num_plays > 0:\n",
        "      start = np.random.choice(['Up', 'Down'])\n",
        "      game = rud.RandomGame(n_actions, colored = True)\n",
        "      gameplay = generate_play(game, up_agent, down_agent, start = start)\n",
        "      up_states.append(gameplay[0])\n",
        "      up_actions.append(gameplay[2])\n",
        "      up_rewards.append(gameplay[4])\n",
        "      down_states.append(gameplay[1])\n",
        "      down_actions.append(gameplay[3])\n",
        "      down_rewards.append(gameplay[5])\n",
        "      if gameplay[6] == 'Up':\n",
        "        up_wins += 1\n",
        "      else:\n",
        "        down_wins += 1\n",
        "      num_plays -= 1\n",
        "  return up_states, down_states, up_actions, down_actions, up_rewards, down_rewards, up_wins, down_wins"
      ],
      "execution_count": 15,
      "outputs": []
    },
    {
      "cell_type": "code",
      "metadata": {
        "id": "z85GBZ80K03L"
      },
      "source": [
        "def select_elite_plays(states_batch, actions_batch, rewards_batch, percentile=50):\n",
        "    \"\"\"\n",
        "    Rerturns the states and corresponding actions from games that have rewards \n",
        "    >= percentile.\n",
        "    \"\"\"\n",
        "    reward_threshold = np.percentile(rewards_batch, percentile)    \n",
        "    num_games = len(states_batch)\n",
        "    elite_states = []\n",
        "    elite_actions = []\n",
        "    for game in range(num_games):\n",
        "        if rewards_batch[game] >= reward_threshold:\n",
        "            elite_states.extend(states_batch[game])\n",
        "            elite_actions.extend(actions_batch[game]) \n",
        "    return elite_states, elite_actions"
      ],
      "execution_count": 16,
      "outputs": []
    },
    {
      "cell_type": "code",
      "metadata": {
        "id": "wD09h2FPRLog"
      },
      "source": [
        "def show_progress(rewards_batch, log, percentile, reward_range=[-1000,+1000]):\n",
        "    \"\"\"\n",
        "    A convenience function that displays training progress. \n",
        "    No cool math here, just charts.\n",
        "    \"\"\"\n",
        "\n",
        "    mean_reward = np.mean(rewards_batch)\n",
        "    threshold = np.percentile(rewards_batch, percentile)\n",
        "    log.append([mean_reward, threshold])\n",
        "\n",
        "    clear_output(True)\n",
        "    print(\"mean reward = %.3f, threshold=%.3f\" % (mean_reward, threshold))\n",
        "    plt.figure(figsize=[8, 4])\n",
        "    plt.subplot(1, 2, 1)\n",
        "    plt.plot(list(zip(*log))[0], label='Mean rewards')\n",
        "    plt.plot(list(zip(*log))[1], label='Reward thresholds')\n",
        "    plt.legend()\n",
        "    plt.grid()\n",
        "\n",
        "    plt.subplot(1, 2, 2)\n",
        "    plt.hist(rewards_batch, range=reward_range)\n",
        "    plt.vlines([np.percentile(rewards_batch, percentile)],\n",
        "               [0], [100], label=\"percentile\", color='red')\n",
        "    plt.legend()\n",
        "    plt.grid()\n",
        "\n",
        "    plt.show()"
      ],
      "execution_count": 21,
      "outputs": []
    },
    {
      "cell_type": "code",
      "metadata": {
        "colab": {
          "base_uri": "https://localhost:8080/"
        },
        "id": "q4PWoNPKPRJG",
        "outputId": "df0ea6d2-0224-44b2-ae1a-94b26dffd745"
      },
      "source": [
        "n_sessions = 2\n",
        "plays_per_session = 10000\n",
        "percentile = 50\n",
        "up_log = []\n",
        "down_log = []\n",
        "\n",
        "for i in range(n_sessions):\n",
        "    print('iteration = ', i)\n",
        "    #generate new sessions\n",
        "    session = gameplay_session(plays_per_session)\n",
        "    #get states, actions, rewrads batches from sessions\n",
        "    up_states_batch, down_states_batch, up_actions_batch, down_actions_batch, \\\n",
        "    up_rewards_batch, down_rewards_batch, up_wins, down_wins = session\n",
        "    #get up elites from sessions\n",
        "    up_elite_states, up_elite_actions = \\\n",
        "    select_elite_plays(up_states_batch, up_actions_batch, up_rewards_batch, percentile)\n",
        "    #get down elites from session\n",
        "    down_elite_states, down_elite_actions = \\\n",
        "    select_elite_plays(down_states_batch, down_actions_batch, down_rewards_batch, percentile)\n",
        "    #update up agent\n",
        "    up_agent.partial_fit(up_elite_states, up_elite_actions)\n",
        "    #update down agent\n",
        "    down_agent.partial_fit(down_elite_states, down_elite_actions)\n",
        "    #show up progress\n",
        "    #show_progress(up_rewards_batch, up_log, percentile, reward_range=[np.min(up_rewards_batch), np.max(up_rewards_batch)])\n",
        "    #show down progress\n",
        "    #show_progress(down_rewards_batch, down_log, percentile, reward_range=[np.min(down_rewards_batch), np.max(down_rewards_batch)])\n",
        "    print('Up rewards = ', np.mean(up_rewards_batch),'Up wins = ', up_wins, 'Down rewards = ', np.mean(down_rewards_batch), 'Down wins = ', down_wins)"
      ],
      "execution_count": 24,
      "outputs": [
        {
          "output_type": "stream",
          "text": [
            "iteration =  0\n",
            "Up rewards =  -4.729 Up wins =  2663 Down rewards =  -3.221 Down wins =  7337\n",
            "iteration =  1\n",
            "Up rewards =  -4.84 Up wins =  2596 Down rewards =  2.879 Down wins =  7404\n"
          ],
          "name": "stdout"
        }
      ]
    },
    {
      "cell_type": "code",
      "metadata": {
        "id": "wf3q5ebdZkji"
      },
      "source": [
        "session = gameplay_session(100)"
      ],
      "execution_count": null,
      "outputs": []
    },
    {
      "cell_type": "code",
      "metadata": {
        "id": "D8HBpHWvZpqi"
      },
      "source": [
        "up_states_batch, down_states_batch, up_actions_batch, down_actions_batch, \\\n",
        "    up_rewards_batch, down_rewards_batch, up_wins, down_wins = session"
      ],
      "execution_count": null,
      "outputs": []
    },
    {
      "cell_type": "code",
      "metadata": {
        "colab": {
          "base_uri": "https://localhost:8080/"
        },
        "id": "cBkczlHCZuY2",
        "outputId": "788cf4f5-e122-47d4-8611-db623587d411"
      },
      "source": [
        "up_wins"
      ],
      "execution_count": 25,
      "outputs": [
        {
          "output_type": "execute_result",
          "data": {
            "text/plain": [
              "2596"
            ]
          },
          "metadata": {
            "tags": []
          },
          "execution_count": 25
        }
      ]
    },
    {
      "cell_type": "code",
      "metadata": {
        "colab": {
          "base_uri": "https://localhost:8080/"
        },
        "id": "4VZIHJcnZwpI",
        "outputId": "57abcf6d-0441-4d64-8f57-f80357323603"
      },
      "source": [
        "down_wins"
      ],
      "execution_count": 26,
      "outputs": [
        {
          "output_type": "execute_result",
          "data": {
            "text/plain": [
              "7404"
            ]
          },
          "metadata": {
            "tags": []
          },
          "execution_count": 26
        }
      ]
    },
    {
      "cell_type": "code",
      "metadata": {
        "colab": {
          "base_uri": "https://localhost:8080/"
        },
        "id": "WW_6WMA-ZyOW",
        "outputId": "648106bd-44f5-485d-9439-03e56b2e4229"
      },
      "source": [
        "np.mean(up_rewards_batch)"
      ],
      "execution_count": 27,
      "outputs": [
        {
          "output_type": "execute_result",
          "data": {
            "text/plain": [
              "-4.84"
            ]
          },
          "metadata": {
            "tags": []
          },
          "execution_count": 27
        }
      ]
    },
    {
      "cell_type": "code",
      "metadata": {
        "colab": {
          "base_uri": "https://localhost:8080/"
        },
        "id": "hKSfU5YCZ656",
        "outputId": "c9a28302-a340-46fe-ea45-9a5b28b65bfa"
      },
      "source": [
        "np.mean(down_rewards_batch)"
      ],
      "execution_count": 28,
      "outputs": [
        {
          "output_type": "execute_result",
          "data": {
            "text/plain": [
              "2.879"
            ]
          },
          "metadata": {
            "tags": []
          },
          "execution_count": 28
        }
      ]
    }
  ]
}