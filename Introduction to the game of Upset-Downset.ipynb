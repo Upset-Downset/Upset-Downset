{
 "cells": [
  {
   "cell_type": "markdown",
   "metadata": {},
   "source": [
    "Upset-Downset\n",
    "---\n",
    "\n",
    "\n",
    "Upset-Downset is a combinatorial game played on a directed acyclic graph (DAG). \n",
    "\n",
    "What is a DAG?\n",
    "---\n",
    "\n",
    "A DAG is simply a graph (nodes and edges) with an ordering on each edge, that has no (directed) loops in it. We present these DAGs as level set graphs. If $G$ is a DAG and $x$ and $y$ are both nodes in $G$, we define and ordering by say that if there is a path from $x$ to $y$ always traveling downward, then $x > y$. Equivalently, we could define it by saying there is a path from $y$ to $x$ always moving upward.\n",
    "\n",
    "Let's look at some examples below. To begin, run the following cell."
   ]
  },
  {
   "cell_type": "code",
   "execution_count": 1,
   "metadata": {},
   "outputs": [],
   "source": [
    "import upDown"
   ]
  },
  {
   "cell_type": "code",
   "execution_count": 9,
   "metadata": {
    "scrolled": true
   },
   "outputs": [
    {
     "data": {
      "image/png": "[encoded data removed]",
      "text/plain": [
       "<Figure size 432x288 with 1 Axes>"
      ]
     },
     "metadata": {
      "needs_background": "light"
     },
     "output_type": "display_data"
    }
   ],
   "source": [
    "G = upDown.UpDown({0:[3],1:[],2:[3],3:[],4:[2]})\n",
    "G.plot()"
   ]
  },
  {
   "cell_type": "markdown",
   "metadata": {},
   "source": [
    "Notice that in order to initialize the UpDown object $G$, we simply needed to feed it a dictionary with the nodes as keys, and the list of nodes that are above and adjacent to the given node, as values.\n",
    "\n",
    "The DAG above has $5$ nodes and we can easily verify that $3 > 0$ and $3 > 2 > 4$, but any other pair of nodes are incomparable."
   ]
  },
  {
   "cell_type": "markdown",
   "metadata": {},
   "source": [
    "Upsets and Downsets\n",
    "---\n",
    "If $G$ is a DAG, and $x$ is a node in $G$, we call the set of nodes $y$, such that $y=x$ or $y>x$ the *upset of $x$ in $G$*. Similarly, we call the set of nodes $y$, such that $y=x$ or $y<x$ the *downset of $x$ in $G$*.\n",
    "\n",
    "In the example above, the upset of $0$ is ${0,3}$ and its downset is just ${0}$, while the downset of $3$ is ${0,2,3,4}$ and it's upset is just ${3}$. (The reader can figure out the upsets and downsets of the other nodes).\n",
    "\n",
    "Note: In the future, we will be removing upsets and downsets from DAGs. When we do this, we also remove each all the edges attached to each node in the upset/downset."
   ]
  },
  {
   "cell_type": "markdown",
   "metadata": {},
   "source": [
    "How do you play Upset-Downset?\n",
    "---\n",
    "The rules of Upset-Downset are simple. Given a DAG $G$, two players, one \"Up\" and the other \"Down\", take turns removing upsets (if they are player \"Up\") or downsets (if they are player \"Down\"). The player to start is decided upon by an agreement or by random, and the two players alternate until one player cannot remove any nodes. The first player who is unable to remove any nodes loses. The goal is to win."
   ]
  },
  {
   "cell_type": "markdown",
   "metadata": {},
   "source": [
    "Multi-Colored Nodes\n",
    "---\n",
    "Just to complicate things even more, we allow the nodes to be one of three colors, red, green, or blue. The only extra rule is that the Up player is only allowed to choose from green or blue nodes, while the down player is only allowed to choose from green or red nodes."
   ]
  },
  {
   "cell_type": "markdown",
   "metadata": {},
   "source": [
    "To give our example above multi-colored nodes, we re-initialize it and feed the UpDown object a color dictionary which indicates which color (values) a specific node (key) is. In our case, $0$ corresponds to green, $1$ to blue, and $-1$ to red."
   ]
  },
  {
   "cell_type": "code",
   "execution_count": 11,
   "metadata": {},
   "outputs": [
    {
     "data": {
      "image/png": "[encoded data removed]",
      "text/plain": [
       "<Figure size 432x288 with 1 Axes>"
      ]
     },
     "metadata": {
      "needs_background": "light"
     },
     "output_type": "display_data"
    }
   ],
   "source": [
    "color_dict = {0:-1,1:1,2:-1,3:0,4:1}\n",
    "G = upDown.UpDown({0:[3],1:[],2:[3],3:[],4:[2]}, coloring=color_dict)\n",
    "G.plot()"
   ]
  },
  {
   "cell_type": "markdown",
   "metadata": {},
   "source": [
    "You can play even play the above game using the play() method on G and following the given instructions."
   ]
  },
  {
   "cell_type": "code",
   "execution_count": 12,
   "metadata": {},
   "outputs": [
    {
     "data": {
      "image/png": "[encoded data removed]",
      "text/plain": [
       "<Figure size 432x288 with 1 Axes>"
      ]
     },
     "metadata": {
      "needs_background": "light"
     },
     "output_type": "display_data"
    },
    {
     "name": "stdout",
     "output_type": "stream",
     "text": [
      "\n",
      "Down wins!\n"
     ]
    }
   ],
   "source": [
    "G.play()"
   ]
  },
  {
   "cell_type": "markdown",
   "metadata": {},
   "source": [
    "Playing on larger DAGs\n",
    "---\n",
    "The above example is fine, but there's no limit to the size of the game, so why not think bigger than five nodes? We will import the randomUpDown module in the following cell and use it to generate random games."
   ]
  },
  {
   "cell_type": "code",
   "execution_count": 18,
   "metadata": {},
   "outputs": [],
   "source": [
    "import randomUpDown as rud"
   ]
  },
  {
   "cell_type": "markdown",
   "metadata": {},
   "source": [
    "The cell below creates a random Upset-Downset game of size N. The default for N is $10$ but it is variable. Additionally, the color default is that it will randomly assign the three colors (RBG) to the N nodes. To turn this feature off and play on green only games, set RGB to False.\n",
    "\n",
    "Have fun!"
   ]
  },
  {
   "cell_type": "code",
   "execution_count": 24,
   "metadata": {},
   "outputs": [
    {
     "data": {
      "image/png": "[encoded data removed]",
      "text/plain": [
       "<Figure size 432x288 with 1 Axes>"
      ]
     },
     "metadata": {
      "needs_background": "light"
     },
     "output_type": "display_data"
    },
    {
     "name": "stdout",
     "output_type": "stream",
     "text": [
      "\n",
      "Down wins!\n"
     ]
    }
   ],
   "source": [
    "N = 10\n",
    "RBG = True #False\n",
    "\n",
    "#Comment this line out if you want to play a specific game again.\n",
    "G = rud.RandomGame(N, RGB=RBG)\n",
    "\n",
    "G.play()"
   ]
  }
 ],
 "metadata": {
  "kernelspec": {
   "display_name": "Python 3",
   "language": "python",
   "name": "python3"
  },
  "language_info": {
   "codemirror_mode": {
    "name": "ipython",
    "version": 3
   },
   "file_extension": ".py",
   "mimetype": "text/x-python",
   "name": "python",
   "nbconvert_exporter": "python",
   "pygments_lexer": "ipython3",
   "version": "3.8.5"
  }
 },
 "nbformat": 4,
 "nbformat_minor": 4
}
