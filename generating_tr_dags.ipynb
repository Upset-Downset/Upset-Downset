{
 "cells": [
  {
   "cell_type": "markdown",
   "metadata": {},
   "source": [
    "# Generating Random Transitively Reduced Directed Acyclic Graphs\n",
    "The very first step to getting \"good\" data for our agent to learn the game Upset-Downset needs to be getting a good sample of games to play. If we want our agent to learn Upset-Downset on games with $n$ nodes, we want to make sure that every game on size $n$ has an equal likelihood of showing up during the training process. This boils down to generating transitively reduced directed acyclic graphs (DAGs) in a *unifrom* way. However, as we will see, this is far from straightforward.\n",
    "\n",
    "Run the cell below to import the modules needed for this notebook."
   ]
  },
  {
   "cell_type": "code",
   "execution_count": 24,
   "metadata": {},
   "outputs": [],
   "source": [
    "%matplotlib inline\n",
    "import uniform_generating_function as ugf\n",
    "import randomUpDown as rud\n",
    "import matplotlib.pyplot as plt\n",
    "import digraph\n",
    "import numpy as np\n",
    "import copy\n",
    "import upDown"
   ]
  },
  {
   "cell_type": "markdown",
   "metadata": {},
   "source": [
    "### Transitive reduction\n",
    "We start by recalling what transitive reduction means.\n",
    "\n",
    "Consider the two DAGs $\\,G=\\{0:[1]\\,, 1:[2]\\,, 2:[]\\, \\}$ and $\\,H=\\{0:[1,2]\\,, 1:[2]\\,, 2:[]\\, \\}$. We use this notation to indicate adjacency relations and from that we infer further relations transitively. More precisely, this notation on $G$ tells us we have the relations $0>1$ and $1>2$ and $H$ has the relations $0>1$, $0>2$ an $1>2$. But by transitivity, in $G$ we also have $0>2$, we just don't say that outloud. In Upset-Downset, both $G$ and $H$ give use the same game, so we only care about DAGs that have been reduced to their most transitive form. Run the next cell below to check that $G$ is the transitive reduction of $H.$"
   ]
  },
  {
   "cell_type": "code",
   "execution_count": 2,
   "metadata": {},
   "outputs": [
    {
     "data": {
      "text/plain": [
       "True"
      ]
     },
     "execution_count": 2,
     "metadata": {},
     "output_type": "execute_result"
    }
   ],
   "source": [
    "G = {0:[1],1:[2],2:[]}\n",
    "H = {0:[1,2],1:[2],2:[]}\n",
    "H = digraph.transitive_reduction(H)\n",
    "G == H"
   ]
  },
  {
   "cell_type": "markdown",
   "metadata": {},
   "source": [
    "We can even see they give us the same game by plotting them.\n",
    "[We first turn them into UpDown objects from upDown]"
   ]
  },
  {
   "cell_type": "code",
   "execution_count": 3,
   "metadata": {},
   "outputs": [
    {
     "data": {
      "image/png": "[encoded data removed]",
      "text/plain": [
       "<Figure size 432x288 with 1 Axes>"
      ]
     },
     "metadata": {
      "needs_background": "light"
     },
     "output_type": "display_data"
    },
    {
     "data": {
      "image/png": "[encoded data removed]",
      "text/plain": [
       "<Figure size 432x288 with 1 Axes>"
      ]
     },
     "metadata": {
      "needs_background": "light"
     },
     "output_type": "display_data"
    }
   ],
   "source": [
    "G = {0:[1],1:[2],2:[]}\n",
    "H = {0:[1,2],1:[2],2:[]}\n",
    "G_game = upDown.UpDown(G)\n",
    "H_game = upDown.UpDown(H)\n",
    "G_game.plot()\n",
    "H_game.plot()"
   ]
  },
  {
   "cell_type": "markdown",
   "metadata": {},
   "source": [
    "This is actually a bit silly because when we initialize an UpDown object, we convert its adjacency dictionary to its transitively reduced form."
   ]
  },
  {
   "cell_type": "markdown",
   "metadata": {},
   "source": [
    "### A naive approach"
   ]
  },
  {
   "cell_type": "markdown",
   "metadata": {},
   "source": [
    "It is easy enough to naively generate a random DAG. Suppose we want a DAG on $n$ nodes. We could go through each tuple of unique nodes $(a,b), a\\neq b$ (chosen in a uniformly random order, of course), flip a coin, and if the coin is heads, we try to add the edge. If adding the edge results in a cyclic graph, we don't add it. At the end, we take the transitive reduction of the graph. This seems simple enough. But, as we will see, it's naive of us to think it's going to give a uniform distibution. We implement this algorithm below.\n",
    "\n",
    "Note: we use the functions is_acyclic and transitive_reduction from the digraph collection. The interested reader can look at the source code to see how those functions are implemented."
   ]
  },
  {
   "cell_type": "code",
   "execution_count": 4,
   "metadata": {},
   "outputs": [],
   "source": [
    "def naive_random_tr_dag(n):\n",
    "    '''A naive generator for a random, transitively reduced, DAG on n nodes.'''\n",
    "    DAG = {i:[] for i in range(n)}\n",
    "    x = list(range(n))\n",
    "    while x:\n",
    "        i = np.random.choice(x)\n",
    "        x.remove(i)\n",
    "        y = list(range(n))\n",
    "        y.remove(i)\n",
    "        while y:\n",
    "            j = np.random.choice(y)\n",
    "            y.remove(j)\n",
    "            flip = np.random.choice(['heads','tails'])\n",
    "            if flip == 'heads':\n",
    "                DAG_plus_e =  copy.deepcopy(DAG)\n",
    "                DAG_plus_e[i].append(j)\n",
    "                if digraph.is_acyclic(DAG_plus_e):\n",
    "                    DAG = DAG_plus_e\n",
    "    DAG = digraph.transitive_reduction(DAG)\n",
    "    return DAG"
   ]
  },
  {
   "cell_type": "markdown",
   "metadata": {},
   "source": [
    "Now let's test to see what the distribution of naive_random_tr_dag looks like if we use this algorithm to generate $10000$ random DAGs of size $3$. (Fact: there are $19$ possibilities. The proof of this is left to the reader =P.)"
   ]
  },
  {
   "cell_type": "code",
   "execution_count": 5,
   "metadata": {},
   "outputs": [
    {
     "name": "stdout",
     "output_type": "stream",
     "text": [
      "0.0% done\n",
      "10.0% done\n",
      "20.0% done\n",
      "30.0% done\n",
      "40.0% done\n",
      "50.0% done\n",
      "60.0% done\n",
      "70.0% done\n",
      "80.0% done\n",
      "90.0% done\n",
      "all done\n"
     ]
    }
   ],
   "source": [
    "#    We collect the distribution in a dictionary keyed by strings\n",
    "#of each DAGs dictionary representation. We sort the cover relations\n",
    "#to make sure there is a one-to-one correspondence between these strings\n",
    "#and the DAGs of order n.\n",
    "\n",
    "naive_distibution = {}\n",
    "#generate 10^k number of transitively reduced DAGs on n nodes\n",
    "n = 3\n",
    "k = 4\n",
    "for i in range(10**k):\n",
    "    l=[]\n",
    "    X = naive_random_tr_dag(n)\n",
    "    for j in range(n):\n",
    "        X[j].sort()\n",
    "    S = str(X)\n",
    "    if S in naive_distibution:\n",
    "        naive_distibution[S]+=1\n",
    "    else:\n",
    "        naive_distibution[S]=1\n",
    "    \n",
    "    #track the doneness\n",
    "    if i % 10**(k-1) == 0:\n",
    "        print(f'{i/10**(k-2)}% done')\n",
    "print('all done')"
   ]
  },
  {
   "cell_type": "markdown",
   "metadata": {},
   "source": [
    "Now let's plot the distribution to see how naive we were (run the code below)."
   ]
  },
  {
   "cell_type": "code",
   "execution_count": 6,
   "metadata": {},
   "outputs": [
    {
     "data": {
      "image/png": "[encoded data removed]",
      "text/plain": [
       "<Figure size 432x288 with 1 Axes>"
      ]
     },
     "metadata": {
      "needs_background": "light"
     },
     "output_type": "display_data"
    }
   ],
   "source": [
    "labels = [str(i) for i in range(len(naive_distibution))]\n",
    "values = list(naive_distibution.values())\n",
    "fig, ax = plt.subplots()\n",
    "ax.bar(labels, values)\n",
    "plt.show()"
   ]
  },
  {
   "cell_type": "markdown",
   "metadata": {},
   "source": [
    "You should see that $6$ of the DAGs are being favored. Let's look at one of them."
   ]
  },
  {
   "cell_type": "code",
   "execution_count": 7,
   "metadata": {},
   "outputs": [
    {
     "data": {
      "image/png": "[encoded data removed]",
      "text/plain": [
       "<Figure size 432x288 with 1 Axes>"
      ]
     },
     "metadata": {
      "needs_background": "light"
     },
     "output_type": "display_data"
    }
   ],
   "source": [
    "most_common_dag = max(naive_distibution, key=naive_distibution.get)\n",
    "G_most = upDown.UpDown(eval(most_common_dag))\n",
    "G_most.plot()"
   ]
  },
  {
   "cell_type": "markdown",
   "metadata": {},
   "source": [
    "And also the DAG that shows up the least."
   ]
  },
  {
   "cell_type": "code",
   "execution_count": 8,
   "metadata": {},
   "outputs": [
    {
     "data": {
      "image/png": "[encoded data removed]",
      "text/plain": [
       "<Figure size 432x288 with 1 Axes>"
      ]
     },
     "metadata": {
      "needs_background": "light"
     },
     "output_type": "display_data"
    }
   ],
   "source": [
    "least_common_dag = min(naive_distibution, key=naive_distibution.get)\n",
    "G_least = upDown.UpDown(eval(least_common_dag))\n",
    "G_least.plot()"
   ]
  },
  {
   "cell_type": "markdown",
   "metadata": {},
   "source": [
    "You can run this test again if you'd like, but you're likely to get similar results. In particular, a group of $6$ DAGs lead the pack and the empty DAG (one with no edges) tends to be the least likely DAG to show up. You are welcome to fiddle with the number of nodes too and see that this type of behavior only worsens. [Be warned, the number of DAGs grows pretty harshly with respect to the number of nodes, so the plot is likely to get pretty ugly for $n>4$.]"
   ]
  },
  {
   "cell_type": "markdown",
   "metadata": {},
   "source": [
    "### Building intuition for a better generating function"
   ]
  },
  {
   "cell_type": "markdown",
   "metadata": {},
   "source": [
    "Okay, so the naive approach doesn't work. But what's wrong with it? Well, there are two problems our process. One of the problems is when we transitively reduce the DAG."
   ]
  },
  {
   "cell_type": "markdown",
   "metadata": {},
   "source": [
    "Why would transitive reduction throw off our distribution? One way to see this is to notice that the only DAG that transitively reduces to the empty DAG is the empty DAG. So, unless the DAG that's generated before we transitively reduce is the empty DAG, we won't end up with the empty DAG being generated. This shows us why we should expect that the empty DAG has a low probability of being generated with our naive approach.\n",
    "\n",
    "Similarly, recall the two DAGs $\\,G=\\{0:[1]\\,, 1:[2]\\,, 2:[]\\, \\}$ and $\\,H=\\{0:[1,2]\\,, 1:[2]\\,, 2:[]\\, \\}$ from the beginning. Remember that $G$ is the transitive reduction of $H$? So if our process generates $G$ and $H$, we just end up with $G$. So again, it would not be surprising to see that $G$ has a higher distrubution in the end."
   ]
  },
  {
   "cell_type": "markdown",
   "metadata": {},
   "source": [
    "Let's see what happens to our distribution if we remove the transitive reduction step. We should expect that this increases the number of classes. We should see instead of $19$ we will get $25$."
   ]
  },
  {
   "cell_type": "code",
   "execution_count": 9,
   "metadata": {},
   "outputs": [],
   "source": [
    "def naive_random_dag(n):\n",
    "    '''A naive generator for a random DAG on n nodes.'''\n",
    "    DAG = {i:[] for i in range(n)}\n",
    "    x = list(range(n))\n",
    "    while x:\n",
    "        i = np.random.choice(x)\n",
    "        x.remove(i)\n",
    "        y = list(range(n))\n",
    "        y.remove(i)\n",
    "        while y:\n",
    "            j = np.random.choice(y)\n",
    "            y.remove(j)\n",
    "            flip = np.random.choice(['heads','tails'])\n",
    "            if flip == 'heads':\n",
    "                DAG_plus_e =  copy.deepcopy(DAG)\n",
    "                DAG_plus_e[i].append(j)\n",
    "                if digraph.is_acyclic(DAG_plus_e):\n",
    "                    DAG = DAG_plus_e\n",
    "    #DAG = digraph.transitive_reduction(DAG)\n",
    "    return DAG"
   ]
  },
  {
   "cell_type": "code",
   "execution_count": 10,
   "metadata": {},
   "outputs": [
    {
     "name": "stdout",
     "output_type": "stream",
     "text": [
      "0.0% done\n",
      "10.0% done\n",
      "20.0% done\n",
      "30.0% done\n",
      "40.0% done\n",
      "50.0% done\n",
      "60.0% done\n",
      "70.0% done\n",
      "80.0% done\n",
      "90.0% done\n",
      "all done\n"
     ]
    }
   ],
   "source": [
    "naive_distibution_dags = {}\n",
    "n = 3\n",
    "k = 4\n",
    "for i in range(10**k):\n",
    "    l=[]\n",
    "    X = naive_random_dag(n)\n",
    "    for j in range(n):\n",
    "        X[j].sort()\n",
    "    S = str(X)\n",
    "    if S in naive_distibution_dags:\n",
    "        naive_distibution_dags[S]+=1\n",
    "    else:\n",
    "        naive_distibution_dags[S]=1\n",
    "    \n",
    "    #track the doneness\n",
    "    if i % 10**(k-1) == 0:\n",
    "        print(f'{i/10**(k-2)}% done')\n",
    "print('all done')"
   ]
  },
  {
   "cell_type": "code",
   "execution_count": 11,
   "metadata": {},
   "outputs": [
    {
     "data": {
      "image/png": "[encoded data removed]",
      "text/plain": [
       "<Figure size 432x288 with 1 Axes>"
      ]
     },
     "metadata": {
      "needs_background": "light"
     },
     "output_type": "display_data"
    }
   ],
   "source": [
    "labels = [str(i) for i in range(len(naive_distibution_dags))]\n",
    "values = list(naive_distibution_dags.values())\n",
    "fig, ax = plt.subplots()\n",
    "ax.bar(labels, values)\n",
    "plt.show()"
   ]
  },
  {
   "cell_type": "markdown",
   "metadata": {},
   "source": [
    "The distribution is better, but still far from uniform. The problem that persists is a touch more nuanced then the problem of transitive reduction. Note that before we add an edge to our digraph, we check acyclicty. If we want to add the edge $e$, it is highly dependent on what the graph looks like before adding $e$. So instead of having this in our generation process, let's allow for any *digraph* to be created using our coin flips, and then only keep the the DAGs that are generated."
   ]
  },
  {
   "cell_type": "code",
   "execution_count": 12,
   "metadata": {},
   "outputs": [],
   "source": [
    "def random_digraph(n):\n",
    "    '''A generator for a digraph on n nodes. Note many of these will have cycles.'''\n",
    "    DAG = {i:[] for i in range(n)}\n",
    "    x = list(range(n))\n",
    "    while x:\n",
    "        i = np.random.choice(x)\n",
    "        x.remove(i)\n",
    "        y = list(range(n))\n",
    "        y.remove(i)\n",
    "        while y:\n",
    "            j = np.random.choice(y)\n",
    "            y.remove(j)\n",
    "            flip = np.random.choice(['heads','tails'])\n",
    "            if flip == 'heads':\n",
    "                DAG[i].append(j)\n",
    "    return DAG"
   ]
  },
  {
   "cell_type": "code",
   "execution_count": 13,
   "metadata": {},
   "outputs": [
    {
     "name": "stdout",
     "output_type": "stream",
     "text": [
      "10.0% done\n",
      "20.0% done\n",
      "30.0% done\n",
      "40.0% done\n",
      "50.0% done\n",
      "60.0% done\n",
      "70.0% done\n",
      "80.0% done\n",
      "90.0% done\n",
      "100.0% done\n",
      "all done\n"
     ]
    }
   ],
   "source": [
    "#    Here, we use random_digraph to uniformly generate digraphs, but we only keep the\n",
    "#digraphs that are acyclic, the DAGs. One drawback is that we don't know how many objects we need to generate,\n",
    "#so we use a while loop until we get 10000.\n",
    "\n",
    "uniform_dag_distibution = {}\n",
    "\n",
    "i = 0\n",
    "n = 3\n",
    "k = 4\n",
    "while i < 10**k:\n",
    "    l=[]\n",
    "    X = random_digraph(n)\n",
    "    if not digraph.is_acyclic(X):\n",
    "        continue\n",
    "    i += 1\n",
    "    for j in range(n):\n",
    "        X[j].sort()\n",
    "    S = str(X)\n",
    "    if S in uniform_dag_distibution:\n",
    "        uniform_dag_distibution[S]+=1\n",
    "    else:\n",
    "        uniform_dag_distibution[S]=1\n",
    "    if i % 10**(k-1) == 0:\n",
    "        print(f'{i/10**(k-2)}% done')\n",
    "print('all done')"
   ]
  },
  {
   "cell_type": "code",
   "execution_count": 14,
   "metadata": {},
   "outputs": [
    {
     "data": {
      "image/png": "[encoded data removed]",
      "text/plain": [
       "<Figure size 432x288 with 1 Axes>"
      ]
     },
     "metadata": {
      "needs_background": "light"
     },
     "output_type": "display_data"
    }
   ],
   "source": [
    "labels = [str(i) for i in range(len(uniform_dag_distibution))]\n",
    "values = list(uniform_dag_distibution.values())\n",
    "fig, ax = plt.subplots()\n",
    "ax.bar(labels, values)\n",
    "plt.show()"
   ]
  },
  {
   "cell_type": "markdown",
   "metadata": {},
   "source": [
    "Hooray! We finally did it, we got uniform distribution! We diagnosed the problems, but our picture is not perfect. We still don't even have a uniform generating function DAGs, since our function generates a digraph and then we check if it's acyclic. Of course we could incorporate that step into our function and have it keep generating digraphs until it comes across a DAG. But there's a better (faster) approach using Markov chains that we will investigate below. Not only that, we will see further that the Markov chain approach is also key in generating transitively reduced DAGs. Our ultimate goal!"
   ]
  },
  {
   "cell_type": "markdown",
   "metadata": {},
   "source": [
    "### Generating uniform DAGs with a Markov chain"
   ]
  },
  {
   "cell_type": "markdown",
   "metadata": {},
   "source": [
    "Our goal is to create a function that spits our transitively reduced DAGs in a uniform fashion. We will first resolve how to generate uniform DAGs."
   ]
  },
  {
   "cell_type": "markdown",
   "metadata": {},
   "source": [
    "The solution is simple and elegant and was first proposed by (Melanc¸on et al, 2000). The idea is to use a Markov chain. Start with any DAG (for example, the empty DAG with no edges). Label the nodes, $0,1,\\dots,n-1$ and at each step in the chain, randomly draw two integers $(i,j)$, where $i,j<n$. If the edge is in the DAG, remove it, if it is not, add it as long as it does not create a cycle. This ensures that any change in the DAG from step $t$ to $t+1$ has equal likelihood of happening. Of course there is a chance the DAG does not change from step $t$ to step $t+1$ but allowing for enough steps in the chain, it's easy to see that every possible DAG with uniform distribution."
   ]
  },
  {
   "cell_type": "markdown",
   "metadata": {},
   "source": [
    "We can check this experimentally."
   ]
  },
  {
   "cell_type": "code",
   "execution_count": 25,
   "metadata": {},
   "outputs": [],
   "source": [
    "def dag_markov_step(X_t):\n",
    "    '''An implementation of the Markov step described above.'''\n",
    "    n = len(X_t)\n",
    "    i = np.random.randint(n)\n",
    "    j = np.random.randint(n)\n",
    "    if i == j:\n",
    "        X_t1 = X_t\n",
    "    elif j in X_t[i]:\n",
    "        X_t1 = X_t\n",
    "        X_t1[i].remove(j)\n",
    "    else:\n",
    "        Y = copy.deepcopy(X_t)\n",
    "        Y[i].append(j)\n",
    "        if digraph.is_acyclic(Y):\n",
    "            X_t1 = Y\n",
    "        else:\n",
    "            X_t1 = X_t\n",
    "    return X_t1"
   ]
  },
  {
   "cell_type": "code",
   "execution_count": 26,
   "metadata": {},
   "outputs": [],
   "source": [
    "def dag_markov_chain(DAG, steps):\n",
    "    for i in range(steps):\n",
    "        DAG = dag_markov_step(DAG)\n",
    "    return DAG"
   ]
  },
  {
   "cell_type": "markdown",
   "metadata": {},
   "source": [
    "We could turn dag_markov_chain into a DAG generating function by writing a function that initializes the empty DAG and runs the chain on a certain number of steps. This will work if we choose the number of steps to be large enough with respect to the number of nodes in the DAG (quadratic, cubic, etc.) But for our purposes, just to experimentall check the distribution, we will run the chain on $n$ steps where $n$ is the number of nodes and then start the next chain where the previous one left off (instead of always at the empty DAG)."
   ]
  },
  {
   "cell_type": "code",
   "execution_count": 17,
   "metadata": {},
   "outputs": [
    {
     "name": "stdout",
     "output_type": "stream",
     "text": [
      "0.0% done\n",
      "10.0% done\n",
      "20.0% done\n",
      "30.0% done\n",
      "40.0% done\n",
      "50.0% done\n",
      "60.0% done\n",
      "70.0% done\n",
      "80.0% done\n",
      "90.0% done\n",
      "all done\n"
     ]
    }
   ],
   "source": [
    "uniform_dag_distibution_mc = {}\n",
    "\n",
    "#choose the number of nodes n\n",
    "n = 3\n",
    "#initialize the empty DAG on n nodes\n",
    "X = {i:[] for i in range(n)}\n",
    "#generate a 10^k number of DAGs\n",
    "k = 4\n",
    "for i in range(10**k):\n",
    "    X = dag_markov_chain(X, n)\n",
    "    for j in range(n):\n",
    "        X[j].sort()\n",
    "    S = str(X)\n",
    "    if S in uniform_dag_distibution_mc:\n",
    "        uniform_dag_distibution_mc[S] += 1\n",
    "    else:\n",
    "        uniform_dag_distibution_mc[S] = 1\n",
    "    if i % 10**(k-1) == 0:\n",
    "        print(f'{i/10**(k-2)}% done')\n",
    "print('all done')"
   ]
  },
  {
   "cell_type": "code",
   "execution_count": 18,
   "metadata": {},
   "outputs": [
    {
     "data": {
      "image/png": "[encoded data removed]",
      "text/plain": [
       "<Figure size 432x288 with 1 Axes>"
      ]
     },
     "metadata": {
      "needs_background": "light"
     },
     "output_type": "display_data"
    }
   ],
   "source": [
    "labels = [str(i) for i in range(len(uniform_dag_distibution_mc))]\n",
    "values = list(uniform_dag_distibution_mc.values())\n",
    "fig, ax = plt.subplots()\n",
    "ax.bar(labels, values)\n",
    "plt.show()"
   ]
  },
  {
   "cell_type": "markdown",
   "metadata": {},
   "source": [
    "Notice that generating these DAGs is much faster than before. In fact, you can increase the number DAGs generated (changing $k$) if you want to see an even more uniform distribution and it won't take much time for $k=5$."
   ]
  },
  {
   "cell_type": "markdown",
   "metadata": {},
   "source": [
    "### Generating transitively reduced DAGs (almost uniformly!)"
   ]
  },
  {
   "cell_type": "markdown",
   "metadata": {},
   "source": [
    "We are nearly there! The last step is to incorporate a weighting trick introduced by (Patryk Kozieł and Małgorzata Sulkowska, 2018) into the Markov step. Recall that in the Markov step for generating a DAG, we allowed that any change had an equal likelihood of happening from steps $t$ to $t+1$. This is perfectly fine if we are not worried about DAGs that give us the same transitive reduction, but if we are (and we are), we want to make sure to boost the visibility of DAGs that won't show up as often after the transitive reduction. We do this by weighting the probabilites using the sizes of the *classes* each DAG shows up in. By classes, we simply mean that the DAGs $\\,G$ and $H$ are in the same class if and only if the have the same transitive reduction. We will use the notation $|[G]|$ to represent the number\n",
    "of DAGs (including $G$) that have the same transitive reduction as $G$. For example, if $G$ is the empty DAG, then $|[G]|=1$, since the the empty DAG is the only DAG whose transitive reduction is the empty DAG."
   ]
  },
  {
   "cell_type": "markdown",
   "metadata": {},
   "source": [
    "The curious reader is encouraged to read the paper by Kozieł and Sulkowska (https://arxiv.org/pdf/1810.05446.pdf). We won't go through every detail but we will present the algorithm, go through a small example, and show that we achieve (almost uniform) distribution of transitively reduced DAGs (finally). In particular, we won't cover how to calculate $|[G]|$ for a general DAG. This isn't hard, it's just a bit extra. (For an extra challenge, one can look at the source code for our implementation of it and try to figure out why it works =P)"
   ]
  },
  {
   "cell_type": "markdown",
   "metadata": {},
   "source": [
    "### The final algorithm"
   ]
  },
  {
   "cell_type": "markdown",
   "metadata": {},
   "source": [
    "The algorithm by Kozieł and Sulkowska is as follows:\n",
    "\n",
    "Suppose we have a Markov chain of DAGs on $n$ nodes $X_0,X_1,\\dots,X_t,X_{t+1},\\dots, X_s$ where $X_0$ is any DAG (for example the empty DAG) and the nodes are labeled $0,1,\\dots,n-1$. To get from step $t$ to step $t+1$, draw random integers $i,j<n$.\n",
    "1. If $(i,j)$ is an edge of $X_t$, let $Z$ be the DAG with $(i,j)$ removed. Let $p = \\frac{|[X_t]|}{|[Z]|}$.\n",
    "    Set $X_{t+1}=Z$ with probability $p$ and $X_{t+1}=X_t$ with probability $p-1$. \n",
    "2. If $(i,j)$ is not an edge of $X_t$, let $Y$ be the digraph with $(i,j)$ added. If $Y$ is acyclic, then \n",
    "   let $p = \\frac{|[X_t]|}{|[Y]|}$. Set $X_{t+1}=Y$ with probability $p$ and $X_{t+1}=X_t$ with probability $p-1$.\n",
    "   If $Y$ contains a cycle, set $X_{t+1}=X_t$.\n",
    "   \n",
    "Repeat this process and take the transitive reduction of $X_s$."
   ]
  },
  {
   "cell_type": "markdown",
   "metadata": {},
   "source": [
    "### An explicit example\n",
    "**(You can skip this boring calculation if you just want to get to the uniform distribution)**\n",
    "\n",
    "Let's look at a concrete example of how this affects the Markov step. Consider the DAG on $3$ nodes $X_t=\\{0:[1],1:[],2:[]\\}$. (Run the cell below to plot it.)"
   ]
  },
  {
   "cell_type": "code",
   "execution_count": 19,
   "metadata": {},
   "outputs": [
    {
     "data": {
      "image/png": "[encoded data removed]",
      "text/plain": [
       "<Figure size 432x288 with 1 Axes>"
      ]
     },
     "metadata": {
      "needs_background": "light"
     },
     "output_type": "display_data"
    }
   ],
   "source": [
    "X_t = upDown.UpDown({0:[1],1:[],2:[]})\n",
    "X_t.plot()"
   ]
  },
  {
   "cell_type": "markdown",
   "metadata": {},
   "source": [
    "Let's compute the probability distribution for the step $t$ to $t+1$.\n",
    "\n",
    "If we drew the pairs $(0,0), (1,1), (2,2),$ and $(1,0)$ we would get a cycle if we added that edge, so there would be no change from $X_t$ to $X_{t+1}$. Now what about the other five options: $(0,1), (0,2), (1,2), (2,0), (2,1)$?"
   ]
  },
  {
   "cell_type": "markdown",
   "metadata": {},
   "source": [
    "Let's list the possibilities for $X_{t+1}$.\n",
    "\n",
    "$X_{t+1} = X_t$ (no change)\n",
    "\n",
    "$X_{t+1} = G_0 = \\{0:[],1:[],2:[]\\}$ (remove $(0,1)$)\n",
    "\n",
    "$X_{t+1} = G_1 = \\{0:[1,2],1:[],2:[]\\}$ (add $(0,2)$)\n",
    "\n",
    "$X_{t+1} = G_2 = \\{0:[1],1:[2],2:[]\\}$ (add $(1,2)$)\n",
    "\n",
    "$X_{t+1} = G_3 = \\{0:[1],1:[],2:[0]\\}$ (add $(2,0)$)\n",
    "\n",
    "$X_{t+1} = G_4 = \\{0:[1],1:[],2:[1]\\}$ (add $(2,1)$)"
   ]
  },
  {
   "cell_type": "code",
   "execution_count": 33,
   "metadata": {},
   "outputs": [
    {
     "name": "stdout",
     "output_type": "stream",
     "text": [
      "G_0:\n"
     ]
    },
    {
     "data": {
      "image/png": "[encoded data removed]",
      "text/plain": [
       "<Figure size 432x288 with 1 Axes>"
      ]
     },
     "metadata": {
      "needs_background": "light"
     },
     "output_type": "display_data"
    },
    {
     "name": "stdout",
     "output_type": "stream",
     "text": [
      "G_1:\n"
     ]
    },
    {
     "data": {
      "image/png": "[encoded data removed]",
      "text/plain": [
       "<Figure size 432x288 with 1 Axes>"
      ]
     },
     "metadata": {
      "needs_background": "light"
     },
     "output_type": "display_data"
    },
    {
     "name": "stdout",
     "output_type": "stream",
     "text": [
      "G_2:\n"
     ]
    },
    {
     "data": {
      "image/png": "[encoded data removed]",
      "text/plain": [
       "<Figure size 432x288 with 1 Axes>"
      ]
     },
     "metadata": {
      "needs_background": "light"
     },
     "output_type": "display_data"
    },
    {
     "name": "stdout",
     "output_type": "stream",
     "text": [
      "G_3:\n"
     ]
    },
    {
     "data": {
      "image/png": "[encoded data removed]",
      "text/plain": [
       "<Figure size 432x288 with 1 Axes>"
      ]
     },
     "metadata": {
      "needs_background": "light"
     },
     "output_type": "display_data"
    },
    {
     "name": "stdout",
     "output_type": "stream",
     "text": [
      "G_4:\n"
     ]
    },
    {
     "data": {
      "image/png": "[encoded data removed]",
      "text/plain": [
       "<Figure size 432x288 with 1 Axes>"
      ]
     },
     "metadata": {
      "needs_background": "light"
     },
     "output_type": "display_data"
    }
   ],
   "source": [
    "#You can look at them (if you really want to.)\n",
    "\n",
    "G_0 = upDown.UpDown({0:[],1:[],2:[]})\n",
    "G_1 = upDown.UpDown({0:[1,2],1:[],2:[]})\n",
    "G_2 = upDown.UpDown({0:[1],1:[2],2:[]})\n",
    "G_3 = upDown.UpDown({0:[1],1:[],2:[0]})\n",
    "G_4 = upDown.UpDown({0:[1],1:[],2:[1]})\n",
    "print('G_0:')\n",
    "G_0.plot()\n",
    "print('G_1:')\n",
    "G_1.plot()\n",
    "print('G_2:')\n",
    "G_2.plot()\n",
    "print('G_3:')\n",
    "G_3.plot()\n",
    "print('G_4:')\n",
    "G_4.plot()"
   ]
  },
  {
   "cell_type": "markdown",
   "metadata": {},
   "source": [
    "After calculating the class sizes, we get $|[X_t]|=1$, $|[G_0]|=1$, $|[G_1]|=1$, $|[G_2]|=2$, $|[G_3]|=2$, and $|[G_4]|=1$ (the reader can verify this). This means that if $(0,1)$, $(0,2)$, or $(2,1)$ are drawn the algorithm will tell us to change to that since $p=1$. If $(1,2)$ or $(2,0)$ are drawn, we will have $p=\\frac{1}{2}$. The event of drawing a pair of nonnegative integers $(i,j)$ where $i,j<3$ is independent from the event of adding or removing that edge. Thus we have,\n",
    "\n",
    "$\\mathbb{P}(X_{t+1} = G_0) = \\frac{1}{9}*1=\\frac{1}{9}$\n",
    "\n",
    "$\\mathbb{P}(X_{t+1} = G_1) = \\frac{1}{9}*1=\\frac{1}{9}$\n",
    "\n",
    "$\\mathbb{P}(X_{t+1} = G_2) = \\frac{1}{9}*\\frac{1}{2}=\\frac{1}{18}$\n",
    "\n",
    "$\\mathbb{P}(X_{t+1} = G_3) = \\frac{1}{9}*\\frac{1}{2}=\\frac{1}{18}$\n",
    "\n",
    "$\\mathbb{P}(X_{t+1} = G_4) = \\frac{1}{9}*1=\\frac{1}{9}$\n",
    "\n",
    "and\n",
    "\n",
    "$\\mathbb{P}(X_{t+1} = X_t) = 1 - \\sum \\mathbb{P}(X_{t+1} = G_i) = \\frac{5}{9}$"
   ]
  },
  {
   "cell_type": "markdown",
   "metadata": {},
   "source": [
    "### Using the algorithm"
   ]
  },
  {
   "cell_type": "markdown",
   "metadata": {},
   "source": [
    "We have already implemented the algorithm into a function in the module uniform_generating_function but here we will only use the markov_chain function from that module. One thing to notice when we use this markov_chain function is that it accepts the class size (class *cardinality*) of the starting DAG. We do this because computing the class size is one of the more complicated steps in the algorithm and since a markov chain is iterative, we can use the information from previous steps rather than recalculating it each time.\n",
    "\n",
    "In the paper by Kozieł and Sulkowska, they conjecture that the process should give uniformity after $n^2$ steps where\n",
    "$n$ is the number of nodes. In our experiement below, we only use $n$ steps, but as we did above, each time we use the Markov chain, we start with the DAG from the end of the previous chain."
   ]
  },
  {
   "cell_type": "code",
   "execution_count": 21,
   "metadata": {},
   "outputs": [],
   "source": [
    "'''The transitive reduction markov chain function'''\n",
    "tr_dag_markov_chain = ugf.markov_chain"
   ]
  },
  {
   "cell_type": "code",
   "execution_count": 22,
   "metadata": {},
   "outputs": [
    {
     "name": "stdout",
     "output_type": "stream",
     "text": [
      "0.0% done\n",
      "10.0% done\n",
      "20.0% done\n",
      "30.0% done\n",
      "40.0% done\n",
      "50.0% done\n",
      "60.0% done\n",
      "70.0% done\n",
      "80.0% done\n",
      "90.0% done\n",
      "all done\n"
     ]
    }
   ],
   "source": [
    "'''Here, we run the transitive reduction DAG markov chain process 10**k times with n steps in each chain.\n",
    "    Each time, we start with the DAG from the end of the previous chain. This ensures that after\n",
    "    n iterations, we will be a quadratic number of steps away. As long as we run the process enough times,\n",
    "    we will get a uniform distribution as conjectured.'''\n",
    "\n",
    "uniform_tr_dag_distibution_mc = {}\n",
    "#choose the number of nodes n\n",
    "n = 3\n",
    "#initialize the empty DAG on n nodes. cc (class cardinality) will always be 1.\n",
    "X = {i:[] for i in range(n)}\n",
    "cc = 1 #don't change\n",
    "#generate a 10^k number of DAGs\n",
    "k = 4\n",
    "for i in range(10**k):\n",
    "    X = X, cc = tr_dag_markov_chain(X, n, cc=cc)\n",
    "    \n",
    "    #We only store the transitive reduction of the output of the markov chain.\n",
    "    Y = digraph.transitive_reduction(X)\n",
    "    for j in range(n):\n",
    "        Y[j].sort()\n",
    "    S = str(Y)\n",
    "    if S in uniform_tr_dag_distibution_mc:\n",
    "        uniform_tr_dag_distibution_mc[S] += 1\n",
    "    else:\n",
    "        uniform_tr_dag_distibution_mc[S] = 1\n",
    "    if i % 10**(k-1) == 0:\n",
    "        print(f'{i/10**(k-2)}% done')\n",
    "print('all done')"
   ]
  },
  {
   "cell_type": "code",
   "execution_count": 23,
   "metadata": {},
   "outputs": [
    {
     "data": {
      "image/png": "[encoded data removed]",
      "text/plain": [
       "<Figure size 432x288 with 1 Axes>"
      ]
     },
     "metadata": {
      "needs_background": "light"
     },
     "output_type": "display_data"
    }
   ],
   "source": [
    "labels = [str(i) for i in range(len(uniform_tr_dag_distibution_mc))]\n",
    "values = list(uniform_tr_dag_distibution_mc.values())\n",
    "fig, ax = plt.subplots()\n",
    "ax.bar(labels, values)\n",
    "plt.show()"
   ]
  },
  {
   "cell_type": "markdown",
   "metadata": {},
   "source": [
    "Awesome!"
   ]
  },
  {
   "cell_type": "markdown",
   "metadata": {},
   "source": [
    "## Citations"
   ]
  },
  {
   "cell_type": "markdown",
   "metadata": {},
   "source": [
    "@article{kozieł2018uniform,\n",
    "      title={Uniform random posets}, \n",
    "      author={Patryk Kozieł and Małgorzata Sulkowska},\n",
    "      year={2018},\n",
    "      eprint={1810.05446},\n",
    "      archivePrefix={arXiv},\n",
    "      primaryClass={math.CO}\n",
    "}"
   ]
  },
  {
   "cell_type": "markdown",
   "metadata": {},
   "source": [
    "@article{melanccon2001random,\n",
    "  title={Random generation of directed acyclic graphs},\n",
    "  author={Melan{\\c{c}}on, Guy and Dutour, Isabelle and Bousquet-M{\\'e}lou, Mireille},\n",
    "  journal={Electronic Notes in Discrete Mathematics},\n",
    "  volume={10},\n",
    "  pages={202--207},\n",
    "  year={2001},\n",
    "  publisher={Elsevier}\n",
    "}"
   ]
  }
 ],
 "metadata": {
  "kernelspec": {
   "display_name": "Python 3",
   "language": "python",
   "name": "python3"
  },
  "language_info": {
   "codemirror_mode": {
    "name": "ipython",
    "version": 3
   },
   "file_extension": ".py",
   "mimetype": "text/x-python",
   "name": "python",
   "nbconvert_exporter": "python",
   "pygments_lexer": "ipython3",
   "version": "3.8.5"
  }
 },
 "nbformat": 4,
 "nbformat_minor": 4
}
